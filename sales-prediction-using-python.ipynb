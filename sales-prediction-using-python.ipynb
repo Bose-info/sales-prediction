{
 "cells": [
  {
   "cell_type": "markdown",
   "id": "0027ec1c",
   "metadata": {
    "papermill": {
     "duration": 0.008417,
     "end_time": "2023-08-04T12:52:18.976238",
     "exception": false,
     "start_time": "2023-08-04T12:52:18.967821",
     "status": "completed"
    },
    "tags": []
   },
   "source": [
    "## **Step 1: Import the necessary libraries:**"
   ]
  },
  {
   "cell_type": "code",
   "execution_count": 4,
   "id": "279a2b6d",
   "metadata": {
    "execution": {
     "iopub.execute_input": "2023-08-04T12:52:18.995668Z",
     "iopub.status.busy": "2023-08-04T12:52:18.994946Z",
     "iopub.status.idle": "2023-08-04T12:52:21.088467Z",
     "shell.execute_reply": "2023-08-04T12:52:21.087019Z"
    },
    "papermill": {
     "duration": 2.106942,
     "end_time": "2023-08-04T12:52:21.091711",
     "exception": false,
     "start_time": "2023-08-04T12:52:18.984769",
     "status": "completed"
    },
    "tags": []
   },
   "outputs": [],
   "source": [
    "import numpy as np\n",
    "import pandas as pd\n",
    "import seaborn as sns\n",
    "import matplotlib.pyplot as plt\n",
    "from sklearn.model_selection import train_test_split\n",
    "from sklearn.linear_model import LinearRegression\n",
    "from sklearn.metrics import mean_absolute_error,mean_squared_error, r2_score"
   ]
  },
  {
   "cell_type": "markdown",
   "id": "5b9d31d5",
   "metadata": {
    "papermill": {
     "duration": 0.008719,
     "end_time": "2023-08-04T12:52:21.109456",
     "exception": false,
     "start_time": "2023-08-04T12:52:21.100737",
     "status": "completed"
    },
    "tags": []
   },
   "source": [
    "## **Step 2: Load & explore the dataset:**"
   ]
  },
  {
   "cell_type": "code",
   "execution_count": 5,
   "id": "2f1e083b",
   "metadata": {
    "execution": {
     "iopub.execute_input": "2023-08-04T12:52:21.129816Z",
     "iopub.status.busy": "2023-08-04T12:52:21.128806Z",
     "iopub.status.idle": "2023-08-04T12:52:21.182807Z",
     "shell.execute_reply": "2023-08-04T12:52:21.181637Z"
    },
    "papermill": {
     "duration": 0.067079,
     "end_time": "2023-08-04T12:52:21.185374",
     "exception": false,
     "start_time": "2023-08-04T12:52:21.118295",
     "status": "completed"
    },
    "tags": []
   },
   "outputs": [
    {
     "data": {
      "text/html": [
       "<div>\n",
       "<style scoped>\n",
       "    .dataframe tbody tr th:only-of-type {\n",
       "        vertical-align: middle;\n",
       "    }\n",
       "\n",
       "    .dataframe tbody tr th {\n",
       "        vertical-align: top;\n",
       "    }\n",
       "\n",
       "    .dataframe thead th {\n",
       "        text-align: right;\n",
       "    }\n",
       "</style>\n",
       "<table border=\"1\" class=\"dataframe\">\n",
       "  <thead>\n",
       "    <tr style=\"text-align: right;\">\n",
       "      <th></th>\n",
       "      <th>Unnamed: 0</th>\n",
       "      <th>TV</th>\n",
       "      <th>Radio</th>\n",
       "      <th>Newspaper</th>\n",
       "      <th>Sales</th>\n",
       "    </tr>\n",
       "  </thead>\n",
       "  <tbody>\n",
       "    <tr>\n",
       "      <th>0</th>\n",
       "      <td>1</td>\n",
       "      <td>230.1</td>\n",
       "      <td>37.8</td>\n",
       "      <td>69.2</td>\n",
       "      <td>22.1</td>\n",
       "    </tr>\n",
       "    <tr>\n",
       "      <th>1</th>\n",
       "      <td>2</td>\n",
       "      <td>44.5</td>\n",
       "      <td>39.3</td>\n",
       "      <td>45.1</td>\n",
       "      <td>10.4</td>\n",
       "    </tr>\n",
       "    <tr>\n",
       "      <th>2</th>\n",
       "      <td>3</td>\n",
       "      <td>17.2</td>\n",
       "      <td>45.9</td>\n",
       "      <td>69.3</td>\n",
       "      <td>9.3</td>\n",
       "    </tr>\n",
       "    <tr>\n",
       "      <th>3</th>\n",
       "      <td>4</td>\n",
       "      <td>151.5</td>\n",
       "      <td>41.3</td>\n",
       "      <td>58.5</td>\n",
       "      <td>18.5</td>\n",
       "    </tr>\n",
       "    <tr>\n",
       "      <th>4</th>\n",
       "      <td>5</td>\n",
       "      <td>180.8</td>\n",
       "      <td>10.8</td>\n",
       "      <td>58.4</td>\n",
       "      <td>12.9</td>\n",
       "    </tr>\n",
       "    <tr>\n",
       "      <th>...</th>\n",
       "      <td>...</td>\n",
       "      <td>...</td>\n",
       "      <td>...</td>\n",
       "      <td>...</td>\n",
       "      <td>...</td>\n",
       "    </tr>\n",
       "    <tr>\n",
       "      <th>195</th>\n",
       "      <td>196</td>\n",
       "      <td>38.2</td>\n",
       "      <td>3.7</td>\n",
       "      <td>13.8</td>\n",
       "      <td>7.6</td>\n",
       "    </tr>\n",
       "    <tr>\n",
       "      <th>196</th>\n",
       "      <td>197</td>\n",
       "      <td>94.2</td>\n",
       "      <td>4.9</td>\n",
       "      <td>8.1</td>\n",
       "      <td>9.7</td>\n",
       "    </tr>\n",
       "    <tr>\n",
       "      <th>197</th>\n",
       "      <td>198</td>\n",
       "      <td>177.0</td>\n",
       "      <td>9.3</td>\n",
       "      <td>6.4</td>\n",
       "      <td>12.8</td>\n",
       "    </tr>\n",
       "    <tr>\n",
       "      <th>198</th>\n",
       "      <td>199</td>\n",
       "      <td>283.6</td>\n",
       "      <td>42.0</td>\n",
       "      <td>66.2</td>\n",
       "      <td>25.5</td>\n",
       "    </tr>\n",
       "    <tr>\n",
       "      <th>199</th>\n",
       "      <td>200</td>\n",
       "      <td>232.1</td>\n",
       "      <td>8.6</td>\n",
       "      <td>8.7</td>\n",
       "      <td>13.4</td>\n",
       "    </tr>\n",
       "  </tbody>\n",
       "</table>\n",
       "<p>200 rows × 5 columns</p>\n",
       "</div>"
      ],
      "text/plain": [
       "     Unnamed: 0     TV  Radio  Newspaper  Sales\n",
       "0             1  230.1   37.8       69.2   22.1\n",
       "1             2   44.5   39.3       45.1   10.4\n",
       "2             3   17.2   45.9       69.3    9.3\n",
       "3             4  151.5   41.3       58.5   18.5\n",
       "4             5  180.8   10.8       58.4   12.9\n",
       "..          ...    ...    ...        ...    ...\n",
       "195         196   38.2    3.7       13.8    7.6\n",
       "196         197   94.2    4.9        8.1    9.7\n",
       "197         198  177.0    9.3        6.4   12.8\n",
       "198         199  283.6   42.0       66.2   25.5\n",
       "199         200  232.1    8.6        8.7   13.4\n",
       "\n",
       "[200 rows x 5 columns]"
      ]
     },
     "execution_count": 5,
     "metadata": {},
     "output_type": "execute_result"
    }
   ],
   "source": [
    "# Load the dataset:\n",
    "df = pd.read_csv(\"Advertising.csv\")\n",
    "df"
   ]
  },
  {
   "cell_type": "code",
   "execution_count": 6,
   "id": "fe2c1343",
   "metadata": {
    "execution": {
     "iopub.execute_input": "2023-08-04T12:52:21.207693Z",
     "iopub.status.busy": "2023-08-04T12:52:21.206842Z",
     "iopub.status.idle": "2023-08-04T12:52:21.231426Z",
     "shell.execute_reply": "2023-08-04T12:52:21.230062Z"
    },
    "papermill": {
     "duration": 0.037741,
     "end_time": "2023-08-04T12:52:21.233769",
     "exception": false,
     "start_time": "2023-08-04T12:52:21.196028",
     "status": "completed"
    },
    "tags": []
   },
   "outputs": [
    {
     "data": {
      "text/html": [
       "<div>\n",
       "<style scoped>\n",
       "    .dataframe tbody tr th:only-of-type {\n",
       "        vertical-align: middle;\n",
       "    }\n",
       "\n",
       "    .dataframe tbody tr th {\n",
       "        vertical-align: top;\n",
       "    }\n",
       "\n",
       "    .dataframe thead th {\n",
       "        text-align: right;\n",
       "    }\n",
       "</style>\n",
       "<table border=\"1\" class=\"dataframe\">\n",
       "  <thead>\n",
       "    <tr style=\"text-align: right;\">\n",
       "      <th></th>\n",
       "      <th>Index</th>\n",
       "      <th>TV</th>\n",
       "      <th>Radio</th>\n",
       "      <th>Newspaper</th>\n",
       "      <th>Sales</th>\n",
       "    </tr>\n",
       "  </thead>\n",
       "  <tbody>\n",
       "    <tr>\n",
       "      <th>0</th>\n",
       "      <td>1</td>\n",
       "      <td>230.1</td>\n",
       "      <td>37.8</td>\n",
       "      <td>69.2</td>\n",
       "      <td>22.1</td>\n",
       "    </tr>\n",
       "    <tr>\n",
       "      <th>1</th>\n",
       "      <td>2</td>\n",
       "      <td>44.5</td>\n",
       "      <td>39.3</td>\n",
       "      <td>45.1</td>\n",
       "      <td>10.4</td>\n",
       "    </tr>\n",
       "    <tr>\n",
       "      <th>2</th>\n",
       "      <td>3</td>\n",
       "      <td>17.2</td>\n",
       "      <td>45.9</td>\n",
       "      <td>69.3</td>\n",
       "      <td>9.3</td>\n",
       "    </tr>\n",
       "    <tr>\n",
       "      <th>3</th>\n",
       "      <td>4</td>\n",
       "      <td>151.5</td>\n",
       "      <td>41.3</td>\n",
       "      <td>58.5</td>\n",
       "      <td>18.5</td>\n",
       "    </tr>\n",
       "    <tr>\n",
       "      <th>4</th>\n",
       "      <td>5</td>\n",
       "      <td>180.8</td>\n",
       "      <td>10.8</td>\n",
       "      <td>58.4</td>\n",
       "      <td>12.9</td>\n",
       "    </tr>\n",
       "    <tr>\n",
       "      <th>...</th>\n",
       "      <td>...</td>\n",
       "      <td>...</td>\n",
       "      <td>...</td>\n",
       "      <td>...</td>\n",
       "      <td>...</td>\n",
       "    </tr>\n",
       "    <tr>\n",
       "      <th>195</th>\n",
       "      <td>196</td>\n",
       "      <td>38.2</td>\n",
       "      <td>3.7</td>\n",
       "      <td>13.8</td>\n",
       "      <td>7.6</td>\n",
       "    </tr>\n",
       "    <tr>\n",
       "      <th>196</th>\n",
       "      <td>197</td>\n",
       "      <td>94.2</td>\n",
       "      <td>4.9</td>\n",
       "      <td>8.1</td>\n",
       "      <td>9.7</td>\n",
       "    </tr>\n",
       "    <tr>\n",
       "      <th>197</th>\n",
       "      <td>198</td>\n",
       "      <td>177.0</td>\n",
       "      <td>9.3</td>\n",
       "      <td>6.4</td>\n",
       "      <td>12.8</td>\n",
       "    </tr>\n",
       "    <tr>\n",
       "      <th>198</th>\n",
       "      <td>199</td>\n",
       "      <td>283.6</td>\n",
       "      <td>42.0</td>\n",
       "      <td>66.2</td>\n",
       "      <td>25.5</td>\n",
       "    </tr>\n",
       "    <tr>\n",
       "      <th>199</th>\n",
       "      <td>200</td>\n",
       "      <td>232.1</td>\n",
       "      <td>8.6</td>\n",
       "      <td>8.7</td>\n",
       "      <td>13.4</td>\n",
       "    </tr>\n",
       "  </tbody>\n",
       "</table>\n",
       "<p>200 rows × 5 columns</p>\n",
       "</div>"
      ],
      "text/plain": [
       "     Index     TV  Radio  Newspaper  Sales\n",
       "0        1  230.1   37.8       69.2   22.1\n",
       "1        2   44.5   39.3       45.1   10.4\n",
       "2        3   17.2   45.9       69.3    9.3\n",
       "3        4  151.5   41.3       58.5   18.5\n",
       "4        5  180.8   10.8       58.4   12.9\n",
       "..     ...    ...    ...        ...    ...\n",
       "195    196   38.2    3.7       13.8    7.6\n",
       "196    197   94.2    4.9        8.1    9.7\n",
       "197    198  177.0    9.3        6.4   12.8\n",
       "198    199  283.6   42.0       66.2   25.5\n",
       "199    200  232.1    8.6        8.7   13.4\n",
       "\n",
       "[200 rows x 5 columns]"
      ]
     },
     "execution_count": 6,
     "metadata": {},
     "output_type": "execute_result"
    }
   ],
   "source": [
    "# Renaming the first column \"Unnamed\" as \"Index\"\n",
    "df.rename(columns={'Unnamed: 0': 'Index'}, inplace=True)\n",
    "df"
   ]
  },
  {
   "cell_type": "code",
   "execution_count": 7,
   "id": "850b5876",
   "metadata": {
    "execution": {
     "iopub.execute_input": "2023-08-04T12:52:21.255029Z",
     "iopub.status.busy": "2023-08-04T12:52:21.254621Z",
     "iopub.status.idle": "2023-08-04T12:52:21.262182Z",
     "shell.execute_reply": "2023-08-04T12:52:21.260947Z"
    },
    "papermill": {
     "duration": 0.021044,
     "end_time": "2023-08-04T12:52:21.264534",
     "exception": false,
     "start_time": "2023-08-04T12:52:21.243490",
     "status": "completed"
    },
    "tags": []
   },
   "outputs": [
    {
     "data": {
      "text/plain": [
       "(200, 5)"
      ]
     },
     "execution_count": 7,
     "metadata": {},
     "output_type": "execute_result"
    }
   ],
   "source": [
    "# Discovering number of rows & columns:\n",
    "df.shape"
   ]
  },
  {
   "cell_type": "code",
   "execution_count": 8,
   "id": "788be3cf",
   "metadata": {
    "execution": {
     "iopub.execute_input": "2023-08-04T12:52:21.287086Z",
     "iopub.status.busy": "2023-08-04T12:52:21.286432Z",
     "iopub.status.idle": "2023-08-04T12:52:21.311681Z",
     "shell.execute_reply": "2023-08-04T12:52:21.310343Z"
    },
    "papermill": {
     "duration": 0.039425,
     "end_time": "2023-08-04T12:52:21.314223",
     "exception": false,
     "start_time": "2023-08-04T12:52:21.274798",
     "status": "completed"
    },
    "tags": []
   },
   "outputs": [
    {
     "name": "stdout",
     "output_type": "stream",
     "text": [
      "<class 'pandas.core.frame.DataFrame'>\n",
      "RangeIndex: 200 entries, 0 to 199\n",
      "Data columns (total 5 columns):\n",
      " #   Column     Non-Null Count  Dtype  \n",
      "---  ------     --------------  -----  \n",
      " 0   Index      200 non-null    int64  \n",
      " 1   TV         200 non-null    float64\n",
      " 2   Radio      200 non-null    float64\n",
      " 3   Newspaper  200 non-null    float64\n",
      " 4   Sales      200 non-null    float64\n",
      "dtypes: float64(4), int64(1)\n",
      "memory usage: 7.9 KB\n"
     ]
    }
   ],
   "source": [
    "# Basic summary about the data:\n",
    "df.info()"
   ]
  },
  {
   "cell_type": "code",
   "execution_count": 9,
   "id": "48c69a21",
   "metadata": {
    "execution": {
     "iopub.execute_input": "2023-08-04T12:52:21.336687Z",
     "iopub.status.busy": "2023-08-04T12:52:21.335578Z",
     "iopub.status.idle": "2023-08-04T12:52:21.366680Z",
     "shell.execute_reply": "2023-08-04T12:52:21.365349Z"
    },
    "papermill": {
     "duration": 0.045083,
     "end_time": "2023-08-04T12:52:21.369373",
     "exception": false,
     "start_time": "2023-08-04T12:52:21.324290",
     "status": "completed"
    },
    "tags": []
   },
   "outputs": [
    {
     "data": {
      "text/html": [
       "<div>\n",
       "<style scoped>\n",
       "    .dataframe tbody tr th:only-of-type {\n",
       "        vertical-align: middle;\n",
       "    }\n",
       "\n",
       "    .dataframe tbody tr th {\n",
       "        vertical-align: top;\n",
       "    }\n",
       "\n",
       "    .dataframe thead th {\n",
       "        text-align: right;\n",
       "    }\n",
       "</style>\n",
       "<table border=\"1\" class=\"dataframe\">\n",
       "  <thead>\n",
       "    <tr style=\"text-align: right;\">\n",
       "      <th></th>\n",
       "      <th>Index</th>\n",
       "      <th>TV</th>\n",
       "      <th>Radio</th>\n",
       "      <th>Newspaper</th>\n",
       "      <th>Sales</th>\n",
       "    </tr>\n",
       "  </thead>\n",
       "  <tbody>\n",
       "    <tr>\n",
       "      <th>count</th>\n",
       "      <td>200.000000</td>\n",
       "      <td>200.000000</td>\n",
       "      <td>200.000000</td>\n",
       "      <td>200.000000</td>\n",
       "      <td>200.000000</td>\n",
       "    </tr>\n",
       "    <tr>\n",
       "      <th>mean</th>\n",
       "      <td>100.500000</td>\n",
       "      <td>147.042500</td>\n",
       "      <td>23.264000</td>\n",
       "      <td>30.554000</td>\n",
       "      <td>14.022500</td>\n",
       "    </tr>\n",
       "    <tr>\n",
       "      <th>std</th>\n",
       "      <td>57.879185</td>\n",
       "      <td>85.854236</td>\n",
       "      <td>14.846809</td>\n",
       "      <td>21.778621</td>\n",
       "      <td>5.217457</td>\n",
       "    </tr>\n",
       "    <tr>\n",
       "      <th>min</th>\n",
       "      <td>1.000000</td>\n",
       "      <td>0.700000</td>\n",
       "      <td>0.000000</td>\n",
       "      <td>0.300000</td>\n",
       "      <td>1.600000</td>\n",
       "    </tr>\n",
       "    <tr>\n",
       "      <th>25%</th>\n",
       "      <td>50.750000</td>\n",
       "      <td>74.375000</td>\n",
       "      <td>9.975000</td>\n",
       "      <td>12.750000</td>\n",
       "      <td>10.375000</td>\n",
       "    </tr>\n",
       "    <tr>\n",
       "      <th>50%</th>\n",
       "      <td>100.500000</td>\n",
       "      <td>149.750000</td>\n",
       "      <td>22.900000</td>\n",
       "      <td>25.750000</td>\n",
       "      <td>12.900000</td>\n",
       "    </tr>\n",
       "    <tr>\n",
       "      <th>75%</th>\n",
       "      <td>150.250000</td>\n",
       "      <td>218.825000</td>\n",
       "      <td>36.525000</td>\n",
       "      <td>45.100000</td>\n",
       "      <td>17.400000</td>\n",
       "    </tr>\n",
       "    <tr>\n",
       "      <th>max</th>\n",
       "      <td>200.000000</td>\n",
       "      <td>296.400000</td>\n",
       "      <td>49.600000</td>\n",
       "      <td>114.000000</td>\n",
       "      <td>27.000000</td>\n",
       "    </tr>\n",
       "  </tbody>\n",
       "</table>\n",
       "</div>"
      ],
      "text/plain": [
       "            Index          TV       Radio   Newspaper       Sales\n",
       "count  200.000000  200.000000  200.000000  200.000000  200.000000\n",
       "mean   100.500000  147.042500   23.264000   30.554000   14.022500\n",
       "std     57.879185   85.854236   14.846809   21.778621    5.217457\n",
       "min      1.000000    0.700000    0.000000    0.300000    1.600000\n",
       "25%     50.750000   74.375000    9.975000   12.750000   10.375000\n",
       "50%    100.500000  149.750000   22.900000   25.750000   12.900000\n",
       "75%    150.250000  218.825000   36.525000   45.100000   17.400000\n",
       "max    200.000000  296.400000   49.600000  114.000000   27.000000"
      ]
     },
     "execution_count": 9,
     "metadata": {},
     "output_type": "execute_result"
    }
   ],
   "source": [
    "# Statistical exploration of dataset:\n",
    "df.describe()"
   ]
  },
  {
   "cell_type": "code",
   "execution_count": 10,
   "id": "4f66c5d8",
   "metadata": {
    "execution": {
     "iopub.execute_input": "2023-08-04T12:52:21.391844Z",
     "iopub.status.busy": "2023-08-04T12:52:21.391398Z",
     "iopub.status.idle": "2023-08-04T12:52:21.400971Z",
     "shell.execute_reply": "2023-08-04T12:52:21.399809Z"
    },
    "papermill": {
     "duration": 0.023811,
     "end_time": "2023-08-04T12:52:21.403383",
     "exception": false,
     "start_time": "2023-08-04T12:52:21.379572",
     "status": "completed"
    },
    "tags": []
   },
   "outputs": [
    {
     "data": {
      "text/plain": [
       "Index        0\n",
       "TV           0\n",
       "Radio        0\n",
       "Newspaper    0\n",
       "Sales        0\n",
       "dtype: int64"
      ]
     },
     "execution_count": 10,
     "metadata": {},
     "output_type": "execute_result"
    }
   ],
   "source": [
    "# Checking for null values:\n",
    "df.isnull().sum()"
   ]
  },
  {
   "cell_type": "code",
   "execution_count": 23,
   "id": "aa597fce",
   "metadata": {
    "execution": {
     "iopub.execute_input": "2023-08-04T12:52:21.426409Z",
     "iopub.status.busy": "2023-08-04T12:52:21.425613Z",
     "iopub.status.idle": "2023-08-04T12:52:22.543313Z",
     "shell.execute_reply": "2023-08-04T12:52:22.542005Z"
    },
    "papermill": {
     "duration": 1.132752,
     "end_time": "2023-08-04T12:52:22.546531",
     "exception": false,
     "start_time": "2023-08-04T12:52:21.413779",
     "status": "completed"
    },
    "tags": []
   },
   "outputs": [
    {
     "data": {
      "image/png": "[encoded data removed]",
      "text/plain": [
       "<Figure size 750x250 with 3 Axes>"
      ]
     },
     "metadata": {},
     "output_type": "display_data"
    }
   ],
   "source": [
    "# Identifying correlations & patterns between independent variables(TV, Radio, Newspaper) & dependent variable(Sales):\n",
    "sns.pairplot(df, x_vars=[\"TV\", \"Radio\", \"Newspaper\"], y_vars=\"Sales\", kind=\"reg\")\n",
    "plt.show()"
   ]
  },
  {
   "cell_type": "markdown",
   "id": "fcb8028d",
   "metadata": {
    "papermill": {
     "duration": 0.012343,
     "end_time": "2023-08-04T12:52:22.570743",
     "exception": false,
     "start_time": "2023-08-04T12:52:22.558400",
     "status": "completed"
    },
    "tags": []
   },
   "source": [
    "## **Step 3: Prepare the data - Split into features (X) and target (y):**\n",
    "Separate the features (advertising channels: TV, Radio, Newspaper) and the target variable (Sales)."
   ]
  },
  {
   "cell_type": "code",
   "execution_count": 12,
   "id": "7caf9522",
   "metadata": {
    "execution": {
     "iopub.execute_input": "2023-08-04T12:52:22.596493Z",
     "iopub.status.busy": "2023-08-04T12:52:22.596096Z",
     "iopub.status.idle": "2023-08-04T12:52:22.607006Z",
     "shell.execute_reply": "2023-08-04T12:52:22.605834Z"
    },
    "papermill": {
     "duration": 0.027709,
     "end_time": "2023-08-04T12:52:22.610421",
     "exception": false,
     "start_time": "2023-08-04T12:52:22.582712",
     "status": "completed"
    },
    "tags": []
   },
   "outputs": [
    {
     "name": "stdout",
     "output_type": "stream",
     "text": [
      "        TV  Radio  Newspaper\n",
      "0    230.1   37.8       69.2\n",
      "1     44.5   39.3       45.1\n",
      "2     17.2   45.9       69.3\n",
      "3    151.5   41.3       58.5\n",
      "4    180.8   10.8       58.4\n",
      "..     ...    ...        ...\n",
      "195   38.2    3.7       13.8\n",
      "196   94.2    4.9        8.1\n",
      "197  177.0    9.3        6.4\n",
      "198  283.6   42.0       66.2\n",
      "199  232.1    8.6        8.7\n",
      "\n",
      "[200 rows x 3 columns]\n"
     ]
    }
   ],
   "source": [
    "# Assigning (TV,Radio,Newspaper) as features to \"X\" by dropping column 'Index' & 'Sales' from the dataset:\n",
    "# Here TV, Radio, Newspaper are independent variables:\n",
    "X = df.drop(['Index','Sales'], axis=1)\n",
    "print(X)"
   ]
  },
  {
   "cell_type": "code",
   "execution_count": 13,
   "id": "83985d7a",
   "metadata": {
    "execution": {
     "iopub.execute_input": "2023-08-04T12:52:22.635922Z",
     "iopub.status.busy": "2023-08-04T12:52:22.635540Z",
     "iopub.status.idle": "2023-08-04T12:52:22.643504Z",
     "shell.execute_reply": "2023-08-04T12:52:22.642042Z"
    },
    "papermill": {
     "duration": 0.023795,
     "end_time": "2023-08-04T12:52:22.646057",
     "exception": false,
     "start_time": "2023-08-04T12:52:22.622262",
     "status": "completed"
    },
    "tags": []
   },
   "outputs": [
    {
     "name": "stdout",
     "output_type": "stream",
     "text": [
      "0      22.1\n",
      "1      10.4\n",
      "2       9.3\n",
      "3      18.5\n",
      "4      12.9\n",
      "       ... \n",
      "195     7.6\n",
      "196     9.7\n",
      "197    12.8\n",
      "198    25.5\n",
      "199    13.4\n",
      "Name: Sales, Length: 200, dtype: float64\n"
     ]
    }
   ],
   "source": [
    "# Assigning 'Sales' as a target to \"y\":\n",
    "# Here Sales is the dependent variable which is dependent on TV, Radio, Newspaper:\n",
    "y = df['Sales']\n",
    "print(y)"
   ]
  },
  {
   "cell_type": "markdown",
   "id": "e0e53a2c",
   "metadata": {
    "papermill": {
     "duration": 0.011519,
     "end_time": "2023-08-04T12:52:22.669526",
     "exception": false,
     "start_time": "2023-08-04T12:52:22.658007",
     "status": "completed"
    },
    "tags": []
   },
   "source": [
    "## **Step 4: Split the data into training and testing sets:**"
   ]
  },
  {
   "cell_type": "code",
   "execution_count": 14,
   "id": "b948aa1c",
   "metadata": {
    "execution": {
     "iopub.execute_input": "2023-08-04T12:52:22.696112Z",
     "iopub.status.busy": "2023-08-04T12:52:22.694999Z",
     "iopub.status.idle": "2023-08-04T12:52:22.702804Z",
     "shell.execute_reply": "2023-08-04T12:52:22.701787Z"
    },
    "papermill": {
     "duration": 0.024093,
     "end_time": "2023-08-04T12:52:22.705342",
     "exception": false,
     "start_time": "2023-08-04T12:52:22.681249",
     "status": "completed"
    },
    "tags": []
   },
   "outputs": [],
   "source": [
    "# Here test_size=0.2 means that 20% of the data will be used for testing, and the remaining 80% will be used for training.\n",
    "#X_train: This is the training set for the features (80% of the data)\n",
    "#X_test: This is the testing set for the features (20% of the data)\n",
    "#y_train: This is the training set for the target variable corresponding to X_train (80% of the data)\n",
    "#y_test: This is the testing set for the target variable corresponding to X_test (20% of the data)\n",
    "\n",
    "X_train, X_test, y_train, y_test = train_test_split(X, y, test_size=0.2, random_state=43)"
   ]
  },
  {
   "cell_type": "markdown",
   "id": "041729bd",
   "metadata": {
    "papermill": {
     "duration": 0.011379,
     "end_time": "2023-08-04T12:52:22.728748",
     "exception": false,
     "start_time": "2023-08-04T12:52:22.717369",
     "status": "completed"
    },
    "tags": []
   },
   "source": [
    "## **Step 5: Train the linear regression model on the training data:**"
   ]
  },
  {
   "cell_type": "code",
   "execution_count": 15,
   "id": "212c1d7c",
   "metadata": {
    "execution": {
     "iopub.execute_input": "2023-08-04T12:52:22.754350Z",
     "iopub.status.busy": "2023-08-04T12:52:22.753919Z",
     "iopub.status.idle": "2023-08-04T12:52:22.789044Z",
     "shell.execute_reply": "2023-08-04T12:52:22.787862Z"
    },
    "papermill": {
     "duration": 0.050909,
     "end_time": "2023-08-04T12:52:22.791562",
     "exception": false,
     "start_time": "2023-08-04T12:52:22.740653",
     "status": "completed"
    },
    "tags": []
   },
   "outputs": [
    {
     "data": {
      "text/html": [
       "<style>#sk-container-id-1 {color: black;}#sk-container-id-1 pre{padding: 0;}#sk-container-id-1 div.sk-toggleable {background-color: white;}#sk-container-id-1 label.sk-toggleable__label {cursor: pointer;display: block;width: 100%;margin-bottom: 0;padding: 0.3em;box-sizing: border-box;text-align: center;}#sk-container-id-1 label.sk-toggleable__label-arrow:before {content: \"▸\";float: left;margin-right: 0.25em;color: #696969;}#sk-container-id-1 label.sk-toggleable__label-arrow:hover:before {color: black;}#sk-container-id-1 div.sk-estimator:hover label.sk-toggleable__label-arrow:before {color: black;}#sk-container-id-1 div.sk-toggleable__content {max-height: 0;max-width: 0;overflow: hidden;text-align: left;background-color: #f0f8ff;}#sk-container-id-1 div.sk-toggleable__content pre {margin: 0.2em;color: black;border-radius: 0.25em;background-color: #f0f8ff;}#sk-container-id-1 input.sk-toggleable__control:checked~div.sk-toggleable__content {max-height: 200px;max-width: 100%;overflow: auto;}#sk-container-id-1 input.sk-toggleable__control:checked~label.sk-toggleable__label-arrow:before {content: \"▾\";}#sk-container-id-1 div.sk-estimator input.sk-toggleable__control:checked~label.sk-toggleable__label {background-color: #d4ebff;}#sk-container-id-1 div.sk-label input.sk-toggleable__control:checked~label.sk-toggleable__label {background-color: #d4ebff;}#sk-container-id-1 input.sk-hidden--visually {border: 0;clip: rect(1px 1px 1px 1px);clip: rect(1px, 1px, 1px, 1px);height: 1px;margin: -1px;overflow: hidden;padding: 0;position: absolute;width: 1px;}#sk-container-id-1 div.sk-estimator {font-family: monospace;background-color: #f0f8ff;border: 1px dotted black;border-radius: 0.25em;box-sizing: border-box;margin-bottom: 0.5em;}#sk-container-id-1 div.sk-estimator:hover {background-color: #d4ebff;}#sk-container-id-1 div.sk-parallel-item::after {content: \"\";width: 100%;border-bottom: 1px solid gray;flex-grow: 1;}#sk-container-id-1 div.sk-label:hover label.sk-toggleable__label {background-color: #d4ebff;}#sk-container-id-1 div.sk-serial::before {content: \"\";position: absolute;border-left: 1px solid gray;box-sizing: border-box;top: 0;bottom: 0;left: 50%;z-index: 0;}#sk-container-id-1 div.sk-serial {display: flex;flex-direction: column;align-items: center;background-color: white;padding-right: 0.2em;padding-left: 0.2em;position: relative;}#sk-container-id-1 div.sk-item {position: relative;z-index: 1;}#sk-container-id-1 div.sk-parallel {display: flex;align-items: stretch;justify-content: center;background-color: white;position: relative;}#sk-container-id-1 div.sk-item::before, #sk-container-id-1 div.sk-parallel-item::before {content: \"\";position: absolute;border-left: 1px solid gray;box-sizing: border-box;top: 0;bottom: 0;left: 50%;z-index: -1;}#sk-container-id-1 div.sk-parallel-item {display: flex;flex-direction: column;z-index: 1;position: relative;background-color: white;}#sk-container-id-1 div.sk-parallel-item:first-child::after {align-self: flex-end;width: 50%;}#sk-container-id-1 div.sk-parallel-item:last-child::after {align-self: flex-start;width: 50%;}#sk-container-id-1 div.sk-parallel-item:only-child::after {width: 0;}#sk-container-id-1 div.sk-dashed-wrapped {border: 1px dashed gray;margin: 0 0.4em 0.5em 0.4em;box-sizing: border-box;padding-bottom: 0.4em;background-color: white;}#sk-container-id-1 div.sk-label label {font-family: monospace;font-weight: bold;display: inline-block;line-height: 1.2em;}#sk-container-id-1 div.sk-label-container {text-align: center;}#sk-container-id-1 div.sk-container {/* jupyter's `normalize.less` sets `[hidden] { display: none; }` but bootstrap.min.css set `[hidden] { display: none !important; }` so we also need the `!important` here to be able to override the default hidden behavior on the sphinx rendered scikit-learn.org. See: https://github.com/scikit-learn/scikit-learn/issues/21755 */display: inline-block !important;position: relative;}#sk-container-id-1 div.sk-text-repr-fallback {display: none;}</style><div id=\"sk-container-id-1\" class=\"sk-top-container\"><div class=\"sk-text-repr-fallback\"><pre>LinearRegression()</pre><b>In a Jupyter environment, please rerun this cell to show the HTML representation or trust the notebook. <br />On GitHub, the HTML representation is unable to render, please try loading this page with nbviewer.org.</b></div><div class=\"sk-container\" hidden><div class=\"sk-item\"><div class=\"sk-estimator sk-toggleable\"><input class=\"sk-toggleable__control sk-hidden--visually\" id=\"sk-estimator-id-1\" type=\"checkbox\" checked><label for=\"sk-estimator-id-1\" class=\"sk-toggleable__label sk-toggleable__label-arrow\">LinearRegression</label><div class=\"sk-toggleable__content\"><pre>LinearRegression()</pre></div></div></div></div></div>"
      ],
      "text/plain": [
       "LinearRegression()"
      ]
     },
     "execution_count": 15,
     "metadata": {},
     "output_type": "execute_result"
    }
   ],
   "source": [
    "# Train the model on the training data using the fit() method:\n",
    "model = LinearRegression()\n",
    "model.fit(X_train, y_train)"
   ]
  },
  {
   "cell_type": "markdown",
   "id": "d3405ea6",
   "metadata": {
    "papermill": {
     "duration": 0.012123,
     "end_time": "2023-08-04T12:52:22.817783",
     "exception": false,
     "start_time": "2023-08-04T12:52:22.805660",
     "status": "completed"
    },
    "tags": []
   },
   "source": [
    "## **Step 6: Make predictions on the test data:**"
   ]
  },
  {
   "cell_type": "code",
   "execution_count": 16,
   "id": "7a700da4",
   "metadata": {
    "execution": {
     "iopub.execute_input": "2023-08-04T12:52:22.844270Z",
     "iopub.status.busy": "2023-08-04T12:52:22.843807Z",
     "iopub.status.idle": "2023-08-04T12:52:22.854562Z",
     "shell.execute_reply": "2023-08-04T12:52:22.852969Z"
    },
    "papermill": {
     "duration": 0.027076,
     "end_time": "2023-08-04T12:52:22.857012",
     "exception": false,
     "start_time": "2023-08-04T12:52:22.829936",
     "status": "completed"
    },
    "tags": []
   },
   "outputs": [
    {
     "data": {
      "text/plain": [
       "array([ 8.54034679, 15.57247463, 12.00612144,  9.67279861, 11.42385092,\n",
       "       18.55293488, 24.02278242,  7.05365828, 22.12551494, 16.72065638,\n",
       "        7.85081793, 23.11509395, 19.18719498,  5.40127091, 15.23576551,\n",
       "        9.90642579, 11.94342451,  9.81855823, 21.14401409,  9.1534307 ,\n",
       "       20.44468759, 12.29808365, 13.5869414 , 10.57031008, 16.26513055,\n",
       "        7.86253245, 20.69472029, 20.35016487,  9.00527669, 14.11934464,\n",
       "       17.20367735, 15.11272068, 17.23013018, 19.08466691, 17.13277712,\n",
       "       12.31707038, 12.73960467,  6.07982336, 10.01695956, 13.32737828])"
      ]
     },
     "execution_count": 16,
     "metadata": {},
     "output_type": "execute_result"
    }
   ],
   "source": [
    "# Making predictions(y_predictions) based on the test data(X_test):\n",
    "y_predictions = model.predict(X_test)\n",
    "y_predictions"
   ]
  },
  {
   "cell_type": "markdown",
   "id": "65a2509d",
   "metadata": {
    "papermill": {
     "duration": 0.012304,
     "end_time": "2023-08-04T12:52:22.881735",
     "exception": false,
     "start_time": "2023-08-04T12:52:22.869431",
     "status": "completed"
    },
    "tags": []
   },
   "source": [
    "## **Step 7: Evaluate the model's performance:**"
   ]
  },
  {
   "cell_type": "code",
   "execution_count": 17,
   "id": "681af722",
   "metadata": {
    "execution": {
     "iopub.execute_input": "2023-08-04T12:52:22.908908Z",
     "iopub.status.busy": "2023-08-04T12:52:22.908493Z",
     "iopub.status.idle": "2023-08-04T12:52:22.918603Z",
     "shell.execute_reply": "2023-08-04T12:52:22.917059Z"
    },
    "papermill": {
     "duration": 0.026841,
     "end_time": "2023-08-04T12:52:22.921082",
     "exception": false,
     "start_time": "2023-08-04T12:52:22.894241",
     "status": "completed"
    },
    "tags": []
   },
   "outputs": [
    {
     "name": "stdout",
     "output_type": "stream",
     "text": [
      "Mean Absolute Error: 1.1579489313567062\n",
      "Root Mean Squared Error: 1.4335357663627921\n",
      "R-squared: 0.9286102071081018\n"
     ]
    }
   ],
   "source": [
    "# Evaluating the model for it's accuracy:\n",
    "mae = mean_absolute_error(y_test, y_predictions)\n",
    "rmse = np.sqrt(mean_squared_error(y_test, y_predictions))\n",
    "r2 = r2_score(y_test, y_predictions)\n",
    "\n",
    "print(\"Mean Absolute Error:\", mae)\n",
    "print(\"Root Mean Squared Error:\", rmse)\n",
    "print(\"R-squared:\", r2)"
   ]
  },
  {
   "cell_type": "code",
   "execution_count": 18,
   "id": "d96d6f52",
   "metadata": {
    "execution": {
     "iopub.execute_input": "2023-08-04T12:52:22.948488Z",
     "iopub.status.busy": "2023-08-04T12:52:22.947802Z",
     "iopub.status.idle": "2023-08-04T12:52:23.289454Z",
     "shell.execute_reply": "2023-08-04T12:52:23.287939Z"
    },
    "papermill": {
     "duration": 0.35856,
     "end_time": "2023-08-04T12:52:23.292204",
     "exception": false,
     "start_time": "2023-08-04T12:52:22.933644",
     "status": "completed"
    },
    "tags": []
   },
   "outputs": [
    {
     "data": {
      "image/png": "[encoded data removed]",
      "text/plain": [
       "<Figure size 640x480 with 1 Axes>"
      ]
     },
     "metadata": {},
     "output_type": "display_data"
    }
   ],
   "source": [
    "# Scatter plot of the actual sales values against the predicted values:\n",
    "plt.scatter(y_test, y_predictions, c='blue', label='Actual vs. Predicted')\n",
    "plt.plot([min(y_test), max(y_test)], [min(y_test), max(y_test)], 'r--', label='Predicted')\n",
    "plt.xlabel('Actual Sales')\n",
    "plt.ylabel('Predicted Sales')\n",
    "plt.title('Actual vs. Predicted Sales')\n",
    "plt.legend()\n",
    "plt.show()"
   ]
  },
  {
   "cell_type": "code",
   "execution_count": 19,
   "id": "70a80a6b",
   "metadata": {
    "execution": {
     "iopub.execute_input": "2023-08-04T12:52:23.320683Z",
     "iopub.status.busy": "2023-08-04T12:52:23.320173Z",
     "iopub.status.idle": "2023-08-04T12:52:23.326508Z",
     "shell.execute_reply": "2023-08-04T12:52:23.325308Z"
    },
    "papermill": {
     "duration": 0.023553,
     "end_time": "2023-08-04T12:52:23.329027",
     "exception": false,
     "start_time": "2023-08-04T12:52:23.305474",
     "status": "completed"
    },
    "tags": []
   },
   "outputs": [
    {
     "name": "stdout",
     "output_type": "stream",
     "text": [
      "Coefficient for 'TV': 0.04536766891688484\n"
     ]
    }
   ],
   "source": [
    "# coef_ attribute of the trained model for \"TV\":\n",
    "coefficient_for_tv = model.coef_[0]\n",
    "print(\"Coefficient for 'TV':\", coefficient_for_tv)"
   ]
  },
  {
   "cell_type": "code",
   "execution_count": 20,
   "id": "e8f8efbd",
   "metadata": {
    "execution": {
     "iopub.execute_input": "2023-08-04T12:52:23.358008Z",
     "iopub.status.busy": "2023-08-04T12:52:23.357570Z",
     "iopub.status.idle": "2023-08-04T12:52:23.363761Z",
     "shell.execute_reply": "2023-08-04T12:52:23.362507Z"
    },
    "papermill": {
     "duration": 0.023492,
     "end_time": "2023-08-04T12:52:23.366240",
     "exception": false,
     "start_time": "2023-08-04T12:52:23.342748",
     "status": "completed"
    },
    "tags": []
   },
   "outputs": [
    {
     "name": "stdout",
     "output_type": "stream",
     "text": [
      "Coefficient for 'Radio': 0.18669444153224196\n"
     ]
    }
   ],
   "source": [
    "# coef_ attribute of the trained model for \"Radio\":\n",
    "coefficient_for_radio = model.coef_[1]\n",
    "print(\"Coefficient for 'Radio':\", coefficient_for_radio)"
   ]
  },
  {
   "cell_type": "code",
   "execution_count": 21,
   "id": "36a4b078",
   "metadata": {
    "execution": {
     "iopub.execute_input": "2023-08-04T12:52:23.394483Z",
     "iopub.status.busy": "2023-08-04T12:52:23.394055Z",
     "iopub.status.idle": "2023-08-04T12:52:23.400089Z",
     "shell.execute_reply": "2023-08-04T12:52:23.398660Z"
    },
    "papermill": {
     "duration": 0.022982,
     "end_time": "2023-08-04T12:52:23.402359",
     "exception": false,
     "start_time": "2023-08-04T12:52:23.379377",
     "status": "completed"
    },
    "tags": []
   },
   "outputs": [
    {
     "name": "stdout",
     "output_type": "stream",
     "text": [
      "Coefficient for 'Newspaper': -0.0005220115615836574\n"
     ]
    }
   ],
   "source": [
    "# coef_ attribute of the trained model for \"Newspaper\":\n",
    "coefficient_for_newspaper = model.coef_[2]\n",
    "print(\"Coefficient for 'Newspaper':\", coefficient_for_newspaper)"
   ]
  }
 ],
 "metadata": {
  "kernelspec": {
   "display_name": "Python 3",
   "language": "python",
   "name": "python3"
  },
  "language_info": {
   "codemirror_mode": {
    "name": "ipython",
    "version": 3
   },
   "file_extension": ".py",
   "mimetype": "text/x-python",
   "name": "python",
   "nbconvert_exporter": "python",
   "pygments_lexer": "ipython3",
   "version": "3.9.13"
  },
  "papermill": {
   "default_parameters": {},
   "duration": 17.603984,
   "end_time": "2023-08-04T12:52:24.493293",
   "environment_variables": {},
   "exception": null,
   "input_path": "__notebook__.ipynb",
   "output_path": "__notebook__.ipynb",
   "parameters": {},
   "start_time": "2023-08-04T12:52:06.889309",
   "version": "2.4.0"
  }
 },
 "nbformat": 4,
 "nbformat_minor": 5
}
